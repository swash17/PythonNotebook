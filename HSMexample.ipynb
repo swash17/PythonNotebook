{
 "cells": [
  {
   "cell_type": "code",
   "execution_count": 1,
   "metadata": {},
   "outputs": [],
   "source": [
    "import pandas as pd\n",
    "import numpy as np\n",
    "import matplotlib.pyplot as plt\n",
    "from IPython.display import display\n",
    "import ipywidgets as widgets"
   ]
  },
  {
   "cell_type": "code",
   "execution_count": null,
   "metadata": {},
   "outputs": [],
   "source": [
    "df = pd.DataFrame({\n",
    "    'Name': ['Nik', 'Kate', 'Evan', 'Kyra'],\n",
    "    'Age': [31, 30, 35, 36],\n",
    "    'Location': ['Toronto', 'London', 'Tokyo', 'Ottawa']\n",
    "})\n",
    "\n",
    "def display_table(df):\n",
    "    out = widgets.Output()\n",
    "    with out:\n",
    "        display(df)\n",
    "    return out\n",
    "\n",
    "display(display_table(df))"
   ]
  },
  {
   "cell_type": "markdown",
   "metadata": {},
   "source": [
    "$N_{spf rs} = AADT \\times L \\times 365 \\times 10^{-6} \\times e^{(-0.312)}$\n",
    "\n",
    "Where:  \n",
    "> $N_{spf rs}$ = predicted total crash frequency for roadway segment base conditions;  \n",
    "> $AADT$ = average annual daily traffic volume (vehicles per day); and  \n",
    "> $L$ = length of roadway segment (miles)."
   ]
  },
  {
   "cell_type": "code",
   "execution_count": 2,
   "metadata": {},
   "outputs": [],
   "source": [
    "EquationData = pd.DataFrame({'AADT':0,'CrashFreq':0}, index=[0])\n",
    "\n",
    "TrafficVol = np.arange(0, 20000, 200)\n",
    "LengthMiles = 3\n",
    "NumDaysPerYear = 365"
   ]
  },
  {
   "cell_type": "code",
   "execution_count": 3,
   "metadata": {},
   "outputs": [],
   "source": [
    "Counter = 0\n",
    "for AADT in TrafficVol:\n",
    "    NumCrashes = AADT * LengthMiles * NumDaysPerYear * 10 ** -6 * np.exp(-0.312)\n",
    "    NewDataRow = pd.Series({'AADT':AADT,'CrashFreq':NumCrashes})\n",
    "    #pd.concat([EquationData, NewDataRow.to_frame().T])\n",
    "    EquationData.loc[Counter] = NewDataRow\n",
    "    Counter=Counter+1"
   ]
  },
  {
   "cell_type": "code",
   "execution_count": null,
   "metadata": {},
   "outputs": [],
   "source": [
    "plt.scatter(EquationData['AADT'],EquationData['CrashFreq'], c=\"blue\")\n",
    "plt.xlabel('AADT (veh/day)')\n",
    "plt.ylabel('Predicted Crash Frequency per Mile')\n",
    "plt.show"
   ]
  },
  {
   "cell_type": "code",
   "execution_count": null,
   "metadata": {},
   "outputs": [],
   "source": [
    "df = pd.DataFrame({\n",
    "    'Name': ['Nik', 'Kate', 'Evan', 'Kyra'],\n",
    "    'Age': [31, 30, 35, 36],\n",
    "    'Location': ['Toronto', 'London', 'Tokyo', 'Ottawa']\n",
    "})\n",
    "\n",
    "def display_table(df):\n",
    "    out = widgets.Output()\n",
    "    with out:\n",
    "        display(df)\n",
    "    return out\n",
    "\n",
    "display(display_table(df))"
   ]
  }
 ],
 "metadata": {
  "kernelspec": {
   "display_name": "ClassEnv",
   "language": "python",
   "name": "python3"
  },
  "language_info": {
   "codemirror_mode": {
    "name": "ipython",
    "version": 3
   },
   "file_extension": ".py",
   "mimetype": "text/x-python",
   "name": "python",
   "nbconvert_exporter": "python",
   "pygments_lexer": "ipython3",
   "version": "3.12.7"
  }
 },
 "nbformat": 4,
 "nbformat_minor": 2
}
