{
 "cells": [
  {
   "cell_type": "code",
   "execution_count": null,
   "metadata": {},
   "outputs": [],
   "source": [
    "from IPython.display import display\n",
    "import ipywidgets as widgets\n",
    "from ipywidgets import link, FloatSlider\n",
    "from ipysheet import sheet, cell, row, column, cell_range, to_dataframe\n",
    "from ipysheet import calculation"
   ]
  },
  {
   "cell_type": "code",
   "execution_count": 17,
   "metadata": {},
   "outputs": [
    {
     "data": {
      "application/vnd.jupyter.widget-view+json": {
       "model_id": "23bad7ea9312479e8b1c54c8225b10cb",
       "version_major": 2,
       "version_minor": 0
      },
      "text/plain": [
       "Sheet(cells=(Cell(column_end=3, column_start=0, row_end=0, row_start=0, squeeze_column=False, type='text', val…"
      ]
     },
     "execution_count": 17,
     "metadata": {},
     "output_type": "execute_result"
    }
   ],
   "source": [
    "DataSheet = sheet(rows=4, columns=5, column_headers=False)\n",
    "Slider1 = widgets.FloatSlider(value=3, min=0, max=12, step=0.5, orientation='horizontal', readout=True)\n",
    "row1=row(0, [\"Factor\", \"Base Conditions\", \"Site Conditions\", \"Site CMF\"])\n",
    "column1 = column(0, [\"CMF 1r - Lane width (ft)\", \"CMF 2r - Shoulder width and type\", \"CMF 3r - Horizontal curves\"], row_start=1)\n",
    "#column2 = column(1, [12, 6, 0],row_start=1)\n",
    "column5 = column(4, [Slider1 for _ in range(4)])\n",
    "cellBaseCond = cell(1,1,12.0)\n",
    "cellInput = cell(1, 2, 11)\n",
    "cellResult = cell(1, 3, 1.25)\n",
    "#cellSiteCondShoulderWidth = cell(2, 2, 1, [Slider1])\n",
    "#cellSiteCondShoulderWidth = cell(2, 3, [x for x in range(0, 12, 1)])\n",
    "\n",
    "\n",
    "def calculate(change):\n",
    "    cellResult.value = cellBaseCond.value / cellInput.value\n",
    "\n",
    "cellInput.observe(calculate, 'value')\n",
    "\n",
    "#calculation(inputs=[2, 10], output=cellResult)\n",
    "#def calculate(a, b):\n",
    "#    return  a * b\n",
    "\n",
    "DataSheet"
   ]
  },
  {
   "cell_type": "code",
   "execution_count": 17,
   "metadata": {},
   "outputs": [
    {
     "data": {
      "application/vnd.jupyter.widget-view+json": {
       "model_id": "cfccf983decc4df28c53aca1bd648e36",
       "version_major": 2,
       "version_minor": 0
      },
      "text/plain": [
       "FloatSlider(value=3.0, description='Shoulder Width (ft):', max=12.0, step=0.5)"
      ]
     },
     "execution_count": 17,
     "metadata": {},
     "output_type": "execute_result"
    }
   ],
   "source": [
    "widgets.FloatSlider(\n",
    "    value=3,\n",
    "    min=0,\n",
    "    max=12,\n",
    "    step=0.5,\n",
    "    description='Shoulder Width (ft):',\n",
    "    disabled=False\n",
    ")"
   ]
  },
  {
   "cell_type": "code",
   "execution_count": null,
   "metadata": {},
   "outputs": [],
   "source": [
    "widgets.BoundedIntText(\n",
    "    value=7,\n",
    "    min=0,\n",
    "    max=10,\n",
    "    step=1,\n",
    "    description='Text:',\n",
    "    disabled=False\n",
    ")"
   ]
  }
 ],
 "metadata": {
  "kernelspec": {
   "display_name": "ClassEnv",
   "language": "python",
   "name": "python3"
  },
  "language_info": {
   "codemirror_mode": {
    "name": "ipython",
    "version": 3
   },
   "file_extension": ".py",
   "mimetype": "text/x-python",
   "name": "python",
   "nbconvert_exporter": "python",
   "pygments_lexer": "ipython3",
   "version": "3.12.7"
  }
 },
 "nbformat": 4,
 "nbformat_minor": 2
}
