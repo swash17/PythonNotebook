{
 "cells": [
  {
   "cell_type": "code",
   "execution_count": 48,
   "metadata": {},
   "outputs": [],
   "source": [
    "import pandas as pd\n",
    "import numpy as np\n",
    "import matplotlib.pyplot as plt\n",
    "from IPython.display import display\n",
    "import ipywidgets as widgets"
   ]
  },
  {
   "cell_type": "code",
   "execution_count": 49,
   "metadata": {},
   "outputs": [],
   "source": [
    "def display_table(TableValues):\n",
    "    out = widgets.Output()\n",
    "    with out:\n",
    "        display(TableValues)\n",
    "    return out"
   ]
  },
  {
   "cell_type": "code",
   "execution_count": 50,
   "metadata": {},
   "outputs": [],
   "source": [
    "def LinearInterpolationFcn(actualValue, lowerBound, upperBound, lowerValue, upperValue):\n",
    "    Result = lowerValue + (upperBound-actualValue)*(upperValue-lowerValue)/(upperBound-lowerBound)\n",
    "    return Result"
   ]
  },
  {
   "cell_type": "markdown",
   "metadata": {},
   "source": [
    "### Traffic Input Data"
   ]
  },
  {
   "cell_type": "code",
   "execution_count": null,
   "metadata": {},
   "outputs": [],
   "source": [
    "V = 2800\n",
    "PHF = 0.94\n",
    "P_T = 0.10"
   ]
  },
  {
   "cell_type": "markdown",
   "metadata": {},
   "source": [
    "### Roadway Input Data"
   ]
  },
  {
   "cell_type": "code",
   "execution_count": 52,
   "metadata": {},
   "outputs": [],
   "source": [
    "N = 2\n",
    "Terrain = \"Level\"\n",
    "LaneWidth = 11\n",
    "LateralClear = 3.5\n",
    "TRD = 2"
   ]
  },
  {
   "cell_type": "markdown",
   "metadata": {},
   "source": [
    "### Calculate Analysis Flow Rate\n",
    "\n",
    "$$v_{p} = \\frac{V}{{PHF} \\times N \\times f_{HV}}\\tag{HCM Eq. 12-9}$$\n",
    "\n",
    "Where:  \n",
    "*v<sub>p</sub>* = 15-min passenger car equivalent flow rate in pc/h/ln,  \n",
    "*V* =\thourly volume in veh/h,  \n",
    "*PHF* = peak-hour factor,  \n",
    "*N*\t=\tnumber of lanes, and  \n",
    "*f<sub>HV</sub>* = heavy-vehicle adjustment factor."
   ]
  },
  {
   "cell_type": "markdown",
   "metadata": {},
   "source": [
    "##### Get Passenger Car Equivalent Value\n",
    "Only general terrain categories currently included"
   ]
  },
  {
   "cell_type": "markdown",
   "metadata": {},
   "source": [
    "HCM Exhibit 12-25 Passenger Car Equivalents for General Terrain Segments\n",
    "\n",
    "| Terrain | *E<sub>T</sub>* |\n",
    "| :-: | :-: |\n",
    "| Level | 2.0 | \n",
    "| Rolling | 3.0 |"
   ]
  },
  {
   "cell_type": "code",
   "execution_count": 53,
   "metadata": {},
   "outputs": [
    {
     "name": "stdout",
     "output_type": "stream",
     "text": [
      "2.0\n"
     ]
    }
   ],
   "source": [
    "if Terrain == \"Level\":\n",
    "    E_T = 2.0\n",
    "else:\n",
    "    E_T = 3.0\n",
    "\n",
    "print(E_T)\n"
   ]
  },
  {
   "cell_type": "markdown",
   "metadata": {},
   "source": [
    "#### Calculate Heavy Vehicle Factor\n",
    "$$f_{HV} = \\frac{1}{1 + P_{T}\\left( E_{T} - 1 \\right)} \\tag{HCM Eq. 12-10}$$\n",
    "\n",
    "$f_{HV}$ = heavy-vehicle adjustment factor,  \n",
    "$P_{T}$ = proportion of heavy vehicles in the traffic stream, and  \n",
    "$E_{T}$ = passenger car equivalent for heavy vehicles, from Table 6.5, 6.6, 6.7, or 6.8 (Exhibits 12-25 – 12-28 HCM)."
   ]
  },
  {
   "cell_type": "code",
   "execution_count": 54,
   "metadata": {},
   "outputs": [
    {
     "name": "stdout",
     "output_type": "stream",
     "text": [
      "0.9090909090909091\n"
     ]
    }
   ],
   "source": [
    "f_HV = 1 / (1 + P_T*(E_T - 1))\n",
    "print (f_HV)"
   ]
  },
  {
   "cell_type": "code",
   "execution_count": 55,
   "metadata": {},
   "outputs": [
    {
     "name": "stdout",
     "output_type": "stream",
     "text": [
      "1872.340425531915\n"
     ]
    }
   ],
   "source": [
    "v_p = V / (PHF * N * f_HV)\n",
    "print (v_p)"
   ]
  },
  {
   "cell_type": "markdown",
   "metadata": {},
   "source": [
    "### Calculate Traffic Stream Average Speed"
   ]
  },
  {
   "cell_type": "markdown",
   "metadata": {},
   "source": [
    "#### Estimate Free-Flow Speed"
   ]
  },
  {
   "cell_type": "markdown",
   "metadata": {},
   "source": [
    "$$FFS = 75.4 - f_{LW} - f_{RLC} - 3.22\\left({TRD} \\right)^{0.84}\\tag{HCM Eq. 12-2}$$\n",
    "\n",
    "Where:  \n",
    "*FFS* = free-flow speed (mi/h)  \n",
    "75.4 = base free-flow speed (mi/h)  \n",
    "$f_{LW}$ = adjustment for lane width from Table 6.3 (Exhibit 12-20) (mi/h)  \n",
    "$f_{RLC}$ = adjustment for right-shoulder lateral clearance from Table 6.4 (Exhibit 12-21) (mi/h)  \n",
    "*TRD* = total ramp density (ramps/mi)  "
   ]
  },
  {
   "cell_type": "code",
   "execution_count": 56,
   "metadata": {},
   "outputs": [
    {
     "data": {
      "application/vnd.jupyter.widget-view+json": {
       "model_id": "0fb89e4d4d524fc6bd403fc09b91f106",
       "version_major": 2,
       "version_minor": 0
      },
      "text/plain": [
       "Output()"
      ]
     },
     "metadata": {},
     "output_type": "display_data"
    }
   ],
   "source": [
    "f_LW_table = pd.DataFrame({\n",
    "    'Lane Width (ft)': [12, 11, 10],\n",
    "    'Reduction in free-flow speed, f_LW (mi/h)': [0.0, 1.9, 6.6]\n",
    "})\n",
    "\n",
    "display(display_table(f_LW_table))"
   ]
  },
  {
   "cell_type": "markdown",
   "metadata": {},
   "source": [
    "### Lateral Clearance Adj. Factor\n",
    "HCM Exhibit 12-21\n",
    "Reduction in free-flow speed, $f_{RLC}$ (mi/h), for the number of lanes in one direction (2-5+)\n",
    "\n",
    "| Right-shoulder lateral clearance (ft) | &nbsp;&nbsp; 2 &nbsp;&nbsp;\t|\t&nbsp;&nbsp; 3 &nbsp;&nbsp;\t|\t&nbsp;&nbsp; 4 &nbsp;&nbsp;\t|\t&nbsp;&nbsp; $\\geq$ 5 &nbsp;&nbsp; | \n",
    "| :-: | :---: | :---: | :---: | :---: |\n",
    "| $\\geq$ 6 |\t0.0\t|\t0.0\t|\t0.0\t|\t0.0 | \n",
    "| 5\t|\t0.6\t|\t0.4\t|\t0.2\t|\t0.1 | \n",
    "| 4\t|\t1.2\t|\t0.8\t|\t0.4\t|\t0.2 | \n",
    "| 3\t|\t1.8\t|\t1.2\t|\t0.6\t|\t0.3 | \n",
    "| 2\t|\t2.4\t|\t1.6\t|\t0.8\t|\t0.4 | \n",
    "| 1\t|\t3.0\t|\t2.0\t|\t1.0\t|\t0.5 | \n",
    "| 0\t|\t3.6\t|\t2.4\t|\t1.2\t|\t0.6 | "
   ]
  },
  {
   "cell_type": "code",
   "execution_count": 57,
   "metadata": {},
   "outputs": [
    {
     "data": {
      "application/vnd.jupyter.widget-view+json": {
       "model_id": "b1a2a00bad784a47a9d50de139ff69a9",
       "version_major": 2,
       "version_minor": 0
      },
      "text/plain": [
       "Output()"
      ]
     },
     "metadata": {},
     "output_type": "display_data"
    }
   ],
   "source": [
    "f_RLC_table = pd.DataFrame({\n",
    "    'Right-shoulder lateral clearance (ft)': [6, 5, 4, 3, 2, 1, 0],\n",
    "    '2 lanes': [0.0, 0.6, 1.2, 1.8, 2.4, 3.0, 3.6],\n",
    "    '3 lanes': [0.0, 0.4, 0.8, 1.2, 1.6, 2.0, 2.4],\n",
    "    '4 lanes': [0.0, 0.2, 0.4, 0.6, 0.8, 1.0, 1.2],\n",
    "    '5 lanes': [0.0, 0.1, 0.2, 0.3, 0.4, 0.5, 0.6],\n",
    "})\n",
    "\n",
    "display(display_table(f_RLC_table))"
   ]
  },
  {
   "cell_type": "markdown",
   "metadata": {},
   "source": [
    "#### Get f_RLC value"
   ]
  },
  {
   "cell_type": "code",
   "execution_count": 58,
   "metadata": {},
   "outputs": [
    {
     "name": "stdout",
     "output_type": "stream",
     "text": [
      "1.5\n"
     ]
    }
   ],
   "source": [
    "if LateralClear >= 6:\n",
    "      f_RLC = 0\n",
    "elif (LateralClear >= 5):\n",
    "      f_RLC = LinearInterpolationFcn(LateralClear, f_RLC_table.iloc[1,0], f_RLC_table.iloc[0,0], f_RLC_table.iloc[0,N-1], f_RLC_table.iloc[1,N-1])\n",
    "elif (LateralClear >= 4):\n",
    "      f_RLC = LinearInterpolationFcn(LateralClear, f_RLC_table.iloc[2,0], f_RLC_table.iloc[1,0], f_RLC_table.iloc[1,N-1], f_RLC_table.iloc[2,N-1])\n",
    "elif (LateralClear >= 3):\n",
    "      f_RLC = LinearInterpolationFcn(LateralClear, f_RLC_table.iloc[3,0], f_RLC_table.iloc[2,0], f_RLC_table.iloc[2,N-1], f_RLC_table.iloc[3,N-1])\n",
    "elif (LateralClear >= 2):\n",
    "      f_RLC = LinearInterpolationFcn(LateralClear, f_RLC_table.iloc[4,0], f_RLC_table.iloc[3,0], f_RLC_table.iloc[3,N-1], f_RLC_table.iloc[4,N-1])\n",
    "elif (LateralClear >= 1):\n",
    "      f_RLC = LinearInterpolationFcn(LateralClear, f_RLC_table.iloc[5,0], f_RLC_table.iloc[4,0], f_RLC_table.iloc[4,N-1], f_RLC_table.iloc[5,N-1])\n",
    "elif (LateralClear >= 0):\n",
    "      f_RLC = LinearInterpolationFcn(LateralClear, f_RLC_table.iloc[6,0], f_RLC_table.iloc[5,0], f_RLC_table.iloc[5,N-1], f_RLC_table.iloc[6,N-1])\n",
    "\n",
    "print(f_RLC)\n",
    "    "
   ]
  },
  {
   "cell_type": "markdown",
   "metadata": {},
   "source": [
    "#### Get f_LW value"
   ]
  },
  {
   "cell_type": "code",
   "execution_count": 59,
   "metadata": {},
   "outputs": [
    {
     "name": "stdout",
     "output_type": "stream",
     "text": [
      "1.9\n"
     ]
    }
   ],
   "source": [
    "if LaneWidth >= 12:\n",
    "    f_LW = 0\n",
    "elif LaneWidth >= 11:\n",
    "    f_LW = 1.9\n",
    "elif LaneWidth >= 10:\n",
    "    6.6\n",
    "else: -99  #Cannot use a lane width less than 10 ft\n",
    "\n",
    "print(f_LW)"
   ]
  },
  {
   "cell_type": "code",
   "execution_count": 60,
   "metadata": {},
   "outputs": [
    {
     "name": "stdout",
     "output_type": "stream",
     "text": [
      "66.23603854322386\n"
     ]
    }
   ],
   "source": [
    "FFS = float(75.4 - f_LW - f_RLC - 3.22*(TRD)**0.84)\n",
    "print(FFS)"
   ]
  },
  {
   "cell_type": "markdown",
   "metadata": {},
   "source": [
    "$$S=\\left\\{\\begin{array}{l l}\n",
    "FFS_{adj} & {\\text {if }v_p \\leq {BP}} \\\\\n",
    "FFS_{adj} - \\frac{\\left({FFS}_{adj} - \\frac{c_{adj}}{D_{c}} \\right)\\left(v_{p} - {BP} \\right)^{2.0}}{\\left(c_{adj} - BP \\right)^{2.0}} & {\\text {if } BP < v_p \\leq c}\n",
    "\\end{array}\\right. \\tag{HCM Eq. 12-1}$$\n",
    "\n",
    "$$c = \\text{Min}\\left\\lbrack 2200 + 10\\left({FF}S_{adj} - 50 \\right),2400 \\right\\rbrack {~~~~~ 55 \\leq {FFS} \\leq 75} \\tag {HCM Exhibit 12-6}$$\n",
    "\n",
    "$$BP = \\left\\lbrack 1000 + 40\\left( 75 - {FFS}_{adj} \\right) \\right\\rbrack \\times {CAF}^{2} {~~~~~ 55 \\leq {FFS} \\leq 75} \\tag{HCM Exhibit 12-6}$$\n",
    "\n",
    "Where:  \n",
    "> $c$ = capacity in pc/h/ln,  \n",
    "> $v_p$\t= 15-min passenger car equivalent flow rate in pc/h/ln,  \n",
    "> $BP$ = linear to curvilinear flow rate breakpoint value in pc/h/ln, and  \n",
    "> $D_c$\t= density at capacity (45 pc/mi/ln)."
   ]
  },
  {
   "cell_type": "code",
   "execution_count": 61,
   "metadata": {},
   "outputs": [
    {
     "name": "stdout",
     "output_type": "stream",
     "text": [
      "1350.5584582710458\n",
      "2362.3603854322387\n"
     ]
    }
   ],
   "source": [
    "EquationData = pd.DataFrame({'Volume':0,'Speed':0}, index=[0])\n",
    "\n",
    "Dc = 45\n",
    "BP = 1000+40*(75-FFS)\n",
    "Cap = min(2200 + 10*(FFS-50), 2400)\n",
    "TrafficVol = np.arange(0, Cap, 25)\n",
    "print(BP)\n",
    "print(Cap)"
   ]
  },
  {
   "cell_type": "code",
   "execution_count": 62,
   "metadata": {},
   "outputs": [
    {
     "name": "stderr",
     "output_type": "stream",
     "text": [
      "C:\\Users\\swash\\AppData\\Local\\Temp\\ipykernel_12484\\691871196.py:10: FutureWarning: Setting an item of incompatible dtype is deprecated and will raise an error in a future version of pandas. Value '66.23603854322386' has dtype incompatible with int64, please explicitly cast to a compatible dtype first.\n",
      "  EquationData.loc[Counter] = NewDataRow\n"
     ]
    }
   ],
   "source": [
    "Counter = 0\n",
    "for Vol in TrafficVol:\n",
    "    if Vol < BP:\n",
    "        AvgSpeed = FFS\n",
    "    else:\n",
    "        AvgSpeed = FFS - (((FFS - (Cap/Dc))*(Vol-BP)**2)/(Cap-BP)**2)\n",
    "        \n",
    "    NewDataRow = pd.Series({'Volume':Vol,'Speed':AvgSpeed})\n",
    "    #pd.concat([EquationData, NewDataRow.to_frame().T])\n",
    "    EquationData.loc[Counter] = NewDataRow\n",
    "    Counter=Counter+1"
   ]
  },
  {
   "cell_type": "markdown",
   "metadata": {},
   "source": [
    "### Plot Speed-Flow Curve"
   ]
  },
  {
   "cell_type": "code",
   "execution_count": 63,
   "metadata": {},
   "outputs": [
    {
     "data": {
      "text/plain": [
       "<function matplotlib.pyplot.show(close=None, block=None)>"
      ]
     },
     "execution_count": 63,
     "metadata": {},
     "output_type": "execute_result"
    },
    {
     "data": {
      "image/png": "[encoded data removed]",
      "text/plain": [
       "<Figure size 640x480 with 1 Axes>"
      ]
     },
     "metadata": {},
     "output_type": "display_data"
    }
   ],
   "source": [
    "plt.scatter(EquationData['Volume'],EquationData['Speed'], c=\"blue\", s=8^2)\n",
    "plt.xlim(0, 2500)\n",
    "plt.ylim(0, 80)\n",
    "plt.xlabel('Volume (veh/h/ln)')\n",
    "plt.ylabel('Average Speed (mi/h)')\n",
    "plt.show"
   ]
  },
  {
   "cell_type": "markdown",
   "metadata": {},
   "source": [
    "### Calculate Density\n",
    "\n",
    "$$D = \\frac{v_{p}}{S}\\tag{HCM Eq. 12-11}$$\n",
    "\n",
    "Where:  \n",
    "*D*\t=\tdensity in pc/mi/ln,  \n",
    "$v_{p}$ =\tflow rate in pc/h/ln, and  \n",
    "*S*\t=\taverage passenger car speed in mi/h."
   ]
  },
  {
   "cell_type": "code",
   "execution_count": 64,
   "metadata": {},
   "outputs": [
    {
     "name": "stdout",
     "output_type": "stream",
     "text": [
      "35.44050214617883\n"
     ]
    }
   ],
   "source": [
    "S = AvgSpeed\n",
    "D = v_p/S\n",
    "print(D)"
   ]
  },
  {
   "cell_type": "markdown",
   "metadata": {},
   "source": [
    "### Determine LOS"
   ]
  },
  {
   "cell_type": "markdown",
   "metadata": {},
   "source": [
    "HCM Exhibit 12-15\n",
    "\n",
    "**Level of Service**|**Density (pc/mi/ln)**\n",
    ":-----:|:-----\n",
    "A |$\\leq$ 11\n",
    "B |> 11-18\n",
    "C |> 18-26\n",
    "D |> 26-35\n",
    "E |> 35-45\n",
    "F |> 45 or Demand exceeds capacity"
   ]
  },
  {
   "cell_type": "code",
   "execution_count": 65,
   "metadata": {},
   "outputs": [
    {
     "name": "stdout",
     "output_type": "stream",
     "text": [
      "E\n"
     ]
    }
   ],
   "source": [
    "if D <= 11:\n",
    "    LOS = \"A\"\n",
    "elif D <= 18:\n",
    "    LOS = \"B\"\n",
    "elif D <= 26:\n",
    "    LOS = \"C\"\n",
    "elif D <= 35:\n",
    "    LOS = \"D\"\n",
    "elif D <= 45:\n",
    "    LOS = \"E\"\n",
    "else: LOS = \"F\"\n",
    "\n",
    "print(LOS)"
   ]
  }
 ],
 "metadata": {
  "kernelspec": {
   "display_name": "HCMenv",
   "language": "python",
   "name": "python3"
  },
  "language_info": {
   "codemirror_mode": {
    "name": "ipython",
    "version": 3
   },
   "file_extension": ".py",
   "mimetype": "text/x-python",
   "name": "python",
   "nbconvert_exporter": "python",
   "pygments_lexer": "ipython3",
   "version": "3.13.7"
  }
 },
 "nbformat": 4,
 "nbformat_minor": 2
}
